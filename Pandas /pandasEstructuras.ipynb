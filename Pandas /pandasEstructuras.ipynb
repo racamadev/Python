{
  "nbformat": 4,
  "nbformat_minor": 0,
  "metadata": {
    "colab": {
      "provenance": [],
      "toc_visible": true,
      "authorship_tag": "ABX9TyPwPe+JRWJ//EA9QNMhatPT",
      "include_colab_link": true
    },
    "kernelspec": {
      "name": "python3",
      "display_name": "Python 3"
    },
    "language_info": {
      "name": "python"
    }
  },
  "cells": [
    {
      "cell_type": "markdown",
      "metadata": {
        "id": "view-in-github",
        "colab_type": "text"
      },
      "source": [
        "<a href=\"https://colab.research.google.com/github/racamadev/Python/blob/Dev/Pandas%20/pandasEstructuras.ipynb\" target=\"_parent\"><img src=\"https://colab.research.google.com/assets/colab-badge.svg\" alt=\"Open In Colab\"/></a>"
      ]
    },
    {
      "cell_type": "markdown",
      "source": [
        "# Ejercicios con Pandas"
      ],
      "metadata": {
        "id": "2vu6QoIQpx7J"
      }
    },
    {
      "cell_type": "markdown",
      "source": [
        "## Cargar un Diccionario"
      ],
      "metadata": {
        "id": "jPeyqWc0sIkY"
      }
    },
    {
      "cell_type": "markdown",
      "source": [
        "### Caso 1 - Crear un Data Frame una matriz"
      ],
      "metadata": {
        "id": "ihOXVedztIzj"
      }
    },
    {
      "cell_type": "code",
      "source": [
        "# importar la librería\n",
        "import pandas as pd\n",
        "\n",
        "# Diccionario\n",
        "matriz = {\n",
        "    'X':[78,85,96,80,86], 'Y':[84,94,89,83,86],'Z':[86,97,96,72,83]\n",
        "}\n",
        "\n",
        "# crear el Data Frame\n",
        "df = pd.DataFrame(matriz)\n",
        "\n",
        "# Imprimir el Data Frame\n",
        "print(df)\n"
      ],
      "metadata": {
        "colab": {
          "base_uri": "https://localhost:8080/"
        },
        "id": "cx8IGGhOp5p-",
        "outputId": "a4dd2adc-22c0-4efc-c834-d40b9d606fd1"
      },
      "execution_count": 1,
      "outputs": [
        {
          "output_type": "stream",
          "name": "stdout",
          "text": [
            "    X   Y   Z\n",
            "0  78  84  86\n",
            "1  85  94  97\n",
            "2  96  89  96\n",
            "3  80  83  72\n",
            "4  86  86  83\n"
          ]
        }
      ]
    },
    {
      "cell_type": "markdown",
      "source": [
        "### Caso 2 - Crear un Data Frame de personas"
      ],
      "metadata": {
        "id": "vVljVFqlta7p"
      }
    },
    {
      "cell_type": "code",
      "source": [
        "# importar la librería\n",
        "import pandas as pd\n",
        "\n",
        "# declarar el diccionario\n",
        "personas = {\n",
        "    'Nombres': ['Dimas', 'Juan', 'Roberto'],\n",
        "    'Eddades': [20, 22, 23],\n",
        "    'Países': ['Costa Rica', 'Honduras', 'Brazil']\n",
        "}\n",
        "\n",
        "# crear el Data Frame\n",
        "dfPersonas = pd.DataFrame(personas)\n",
        "\n",
        "# cambiar el nombre de las claves/columnas\n",
        "dfPersonas.rename({\"Nombres\": \"nombre\", \"Eddades\": \"edad\", \"Países\": \"pais\"}, axis = 1, inplace = True)\n",
        "\n",
        "# imprimir el Data Frame\n",
        "print(dfPersonas)\n"
      ],
      "metadata": {
        "colab": {
          "base_uri": "https://localhost:8080/"
        },
        "id": "7OHebfa-tdUb",
        "outputId": "00a8969b-e0b1-436a-d056-ed9d84a99283"
      },
      "execution_count": 10,
      "outputs": [
        {
          "output_type": "stream",
          "name": "stdout",
          "text": [
            "    nombre  edad        pais\n",
            "0    Dimas    20  Costa Rica\n",
            "1     Juan    22    Honduras\n",
            "2  Roberto    23      Brazil\n"
          ]
        }
      ]
    },
    {
      "cell_type": "markdown",
      "source": [
        "### Caso 2.1 - Agregar columnas al Data Frame"
      ],
      "metadata": {
        "id": "Hx3rWii0BE1d"
      }
    },
    {
      "cell_type": "code",
      "source": [
        "# Agregar una columna al Data Frame de personas\n",
        "\n",
        "# Opción 1 - agregar una columna\n",
        "dfPersonas[\"Profesion\"] = [\"Ingeniero Civil\", \"Desarrollador de Java\", \"Doctor\"]\n",
        "\n",
        "# Opción 2 - agregar una columna\n",
        "dfPersonas = dfPersonas.assign(sueldo = [30e3, 20e3, 60e3])\n",
        "\n",
        "# Opción 3 - agregar una columna\n",
        "dfPersonas.insert(3, \"email\", [\"Dimas@email\", \"Juan@email\", \"Roberto@email\"])\n",
        "\n",
        "# imprimir el Data Frame\n",
        "print(dfPersonas)"
      ],
      "metadata": {
        "colab": {
          "base_uri": "https://localhost:8080/"
        },
        "id": "vJV6UOdjBI0_",
        "outputId": "0e41e05f-9600-4bca-f020-0ee0d8e0eb66"
      },
      "execution_count": 9,
      "outputs": [
        {
          "output_type": "stream",
          "name": "stdout",
          "text": [
            "    nombre  edad        pais          email              Profesion   sueldo\n",
            "0    Dimas    20  Costa Rica    Dimas@email        Ingeniero Civil  30000.0\n",
            "1     Juan    22    Honduras     Juan@email  Desarrollador de Java  20000.0\n",
            "2  Roberto    23      Brazil  Roberto@email                 Doctor  60000.0\n"
          ]
        }
      ]
    },
    {
      "cell_type": "markdown",
      "source": [
        "## Caso 3 - Búsqueda de elementos"
      ],
      "metadata": {
        "id": "arRqPknEFSTl"
      }
    },
    {
      "cell_type": "code",
      "source": [
        "# importar la librería\n",
        "import pandas as pd\n",
        "\n",
        "# declarar el diccionario\n",
        "colaboradores = {\n",
        "    \"nombre\": [\"Ana\", \"Luisa\", \"Marta\", \"Eugenia\"],\n",
        "    \"edad\": [20, 22, 23, 25],\n",
        "    \"pais\": [\"Costa Rica\", \"Costa Rica\", \"Brazil\", \"Colombia\"],\n",
        "    \"salario\": [10e3, 20e3, 20e3, 40e3]\n",
        "}\n",
        "\n",
        "# crear el Data Frame\n",
        "dfColaboradores = pd.DataFrame(colaboradores)\n",
        "\n",
        "# Opción 1\n",
        "condicion1 = dfColaboradores[\"nombre\"] == \"Marta\"\n",
        "print(\"Búsqueda tipo 1 +++++++++++++\")\n",
        "print(condicion1)\n",
        "print(\"\\n\")\n",
        "\n",
        "# Opción 2 - boolean\n",
        "print(\"Búsqueda tipo 2 +++++++++++++\")\n",
        "print(dfColaboradores[dfColaboradores[\"nombre\"] == \"Eugenia\"])\n",
        "print(\"\\n\")\n",
        "\n",
        "# Opción 3 - record\n",
        "print(\"Búsqueda tipo 3 +++++++++++++\\n\")\n",
        "condicion2 = dfColaboradores.salario.isin([20e3])\n",
        "print(condicion2)\n",
        "print(\"\\n\")\n",
        "\n",
        "# Opción 4 - boolean\n",
        "print(\"Búsqueda tipo 3.1 OR ++++++++\\n\")\n",
        "condicion3 = dfColaboradores.nombre.isin([\"Luisa\"]) | dfColaboradores.nombre.isin([\"Marta\"])\n",
        "print(condicion3)\n",
        "print(\"\\n\")\n",
        "\n",
        "# Opción 5 - boolean\n",
        "print(\"Búsqueda tipo 3.2 AND +++++++\\n\")\n",
        "condicion4 = dfColaboradores.nombre.isin([\"Ana\"]) & dfColaboradores.pais.isin([\"Costa Rica\"])\n",
        "print(condicion4)\n",
        "print(\"\\n\")\n",
        "\n",
        "# Opción 6\n",
        "print(\"Búsqueda tipo 4 +++++++++++++\\n\")\n",
        "print(dfColaboradores.iloc[[0, 1], [0, 2]]) # filas 0-1, Columnas 0 (nombre), 2 (pais)\n",
        "print(\"\\n\")\n",
        "\n",
        "# Opción 7\n",
        "print(\"Búsqueda tipo 5 +++++++++++++\\n\")\n",
        "print(dfColaboradores.iloc[[0, 1], :]) # filas 0 y 1, todas las columnas\n",
        "print(\"\\n\")\n",
        "\n",
        "# Opción 8\n",
        "print(\"Búsqueda tipo 6 +++++++++++++\\n\")\n",
        "idxNombre = dfColaboradores.set_index(\"nombre\", inplace=True)\n",
        "print(idxNombre.loc[\"Eugenia\", \"nombre\"]) # filas 0 y 1"
      ],
      "metadata": {
        "colab": {
          "base_uri": "https://localhost:8080/",
          "height": 1000
        },
        "id": "3_LO55WwFUvj",
        "outputId": "b0c22b3d-d3e4-43a0-d3ff-7f3ae213396b"
      },
      "execution_count": 35,
      "outputs": [
        {
          "output_type": "stream",
          "name": "stdout",
          "text": [
            "Búsqueda tipo 1 +++++++++++++\n",
            "0    False\n",
            "1    False\n",
            "2     True\n",
            "3    False\n",
            "Name: nombre, dtype: bool\n",
            "\n",
            "\n",
            "Búsqueda tipo 2 +++++++++++++\n",
            "    nombre  edad      pais  salario\n",
            "3  Eugenia    25  Colombia  40000.0\n",
            "\n",
            "\n",
            "Búsqueda tipo 3 +++++++++++++\n",
            "\n",
            "0    False\n",
            "1     True\n",
            "2     True\n",
            "3    False\n",
            "Name: salario, dtype: bool\n",
            "\n",
            "\n",
            "Búsqueda tipo 3.1 OR ++++++++\n",
            "\n",
            "0    False\n",
            "1     True\n",
            "2     True\n",
            "3    False\n",
            "Name: nombre, dtype: bool\n",
            "\n",
            "\n",
            "Búsqueda tipo 3.2 AND +++++++\n",
            "\n",
            "0     True\n",
            "1    False\n",
            "2    False\n",
            "3    False\n",
            "dtype: bool\n",
            "\n",
            "\n",
            "Búsqueda tipo 4 +++++++++++++\n",
            "\n",
            "  nombre        pais\n",
            "0    Ana  Costa Rica\n",
            "1  Luisa  Costa Rica\n",
            "\n",
            "\n",
            "Búsqueda tipo 5 +++++++++++++\n",
            "\n",
            "  nombre  edad        pais  salario\n",
            "0    Ana    20  Costa Rica  10000.0\n",
            "1  Luisa    22  Costa Rica  20000.0\n",
            "\n",
            "\n",
            "Búsqueda tipo 6 +++++++++++++\n",
            "\n"
          ]
        },
        {
          "output_type": "error",
          "ename": "AttributeError",
          "evalue": "'NoneType' object has no attribute 'loc'",
          "traceback": [
            "\u001b[0;31m---------------------------------------------------------------------------\u001b[0m",
            "\u001b[0;31mAttributeError\u001b[0m                            Traceback (most recent call last)",
            "\u001b[0;32m<ipython-input-35-38621bbb7d59>\u001b[0m in \u001b[0;36m<cell line: 57>\u001b[0;34m()\u001b[0m\n\u001b[1;32m     55\u001b[0m \u001b[0mprint\u001b[0m\u001b[0;34m(\u001b[0m\u001b[0;34m\"Búsqueda tipo 6 +++++++++++++\\n\"\u001b[0m\u001b[0;34m)\u001b[0m\u001b[0;34m\u001b[0m\u001b[0;34m\u001b[0m\u001b[0m\n\u001b[1;32m     56\u001b[0m \u001b[0midxNombre\u001b[0m \u001b[0;34m=\u001b[0m \u001b[0mdfColaboradores\u001b[0m\u001b[0;34m.\u001b[0m\u001b[0mset_index\u001b[0m\u001b[0;34m(\u001b[0m\u001b[0;34m\"nombre\"\u001b[0m\u001b[0;34m,\u001b[0m \u001b[0minplace\u001b[0m\u001b[0;34m=\u001b[0m\u001b[0;32mTrue\u001b[0m\u001b[0;34m)\u001b[0m\u001b[0;34m\u001b[0m\u001b[0;34m\u001b[0m\u001b[0m\n\u001b[0;32m---> 57\u001b[0;31m \u001b[0mprint\u001b[0m\u001b[0;34m(\u001b[0m\u001b[0midxNombre\u001b[0m\u001b[0;34m.\u001b[0m\u001b[0mloc\u001b[0m\u001b[0;34m[\u001b[0m\u001b[0;34m\"Eugenia\"\u001b[0m\u001b[0;34m,\u001b[0m \u001b[0;34m\"nombre\"\u001b[0m\u001b[0;34m]\u001b[0m\u001b[0;34m)\u001b[0m \u001b[0;31m# filas 0 y 1\u001b[0m\u001b[0;34m\u001b[0m\u001b[0;34m\u001b[0m\u001b[0m\n\u001b[0m",
            "\u001b[0;31mAttributeError\u001b[0m: 'NoneType' object has no attribute 'loc'"
          ]
        }
      ]
    }
  ]
}