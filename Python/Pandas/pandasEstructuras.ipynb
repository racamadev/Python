{
  "nbformat": 4,
  "nbformat_minor": 0,
  "metadata": {
    "colab": {
      "provenance": [],
      "toc_visible": true,
      "authorship_tag": "ABX9TyM2ufdOMQ2F1UempZHFD2Jh",
      "include_colab_link": true
    },
    "kernelspec": {
      "name": "python3",
      "display_name": "Python 3"
    },
    "language_info": {
      "name": "python"
    }
  },
  "cells": [
    {
      "cell_type": "markdown",
      "metadata": {
        "id": "view-in-github",
        "colab_type": "text"
      },
      "source": [
        "<a href=\"https://colab.research.google.com/github/racamadev/Python/blob/Dev/Python/Pandas/pandasEstructuras.ipynb\" target=\"_parent\"><img src=\"https://colab.research.google.com/assets/colab-badge.svg\" alt=\"Open In Colab\"/></a>"
      ]
    },
    {
      "cell_type": "markdown",
      "source": [
        "# Ejercicios con Pandas"
      ],
      "metadata": {
        "id": "2vu6QoIQpx7J"
      }
    },
    {
      "cell_type": "markdown",
      "source": [
        "## Cargar un Diccionario"
      ],
      "metadata": {
        "id": "jPeyqWc0sIkY"
      }
    },
    {
      "cell_type": "code",
      "source": [
        "# importar la librería\n",
        "import pandas as pd\n",
        "\n",
        "# Diccionario\n",
        "matriz = {\n",
        "    'X':[78,85,96,80,86], 'Y':[84,94,89,83,86],'Z':[86,97,96,72,83]\n",
        "}\n",
        "\n",
        "# cargar el diccionario y crear el Data Frame\n",
        "df = pd.DataFrame(matriz)\n",
        "\n",
        "# Imprimir el Data Frame\n",
        "print(df)\n"
      ],
      "metadata": {
        "colab": {
          "base_uri": "https://localhost:8080/"
        },
        "id": "cx8IGGhOp5p-",
        "outputId": "a4dd2adc-22c0-4efc-c834-d40b9d606fd1"
      },
      "execution_count": 1,
      "outputs": [
        {
          "output_type": "stream",
          "name": "stdout",
          "text": [
            "    X   Y   Z\n",
            "0  78  84  86\n",
            "1  85  94  97\n",
            "2  96  89  96\n",
            "3  80  83  72\n",
            "4  86  86  83\n"
          ]
        }
      ]
    }
  ]
}